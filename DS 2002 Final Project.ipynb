{
 "cells": [
  {
   "cell_type": "code",
   "execution_count": 0,
   "metadata": {
    "application/vnd.databricks.v1+cell": {
     "cellMetadata": {},
     "inputWidgets": {},
     "nuid": "43f73307-2957-471d-9ea2-35a5bf41dc3c",
     "showTitle": false,
     "title": ""
    }
   },
   "outputs": [],
   "source": [
    "#importing required libraries\n",
    "\n",
    "import os\n",
    "import json\n",
    "import pymongo\n",
    "import pyspark.pandas as pd  # This uses Koalas that is included in PySpark version 3.2 or newer.\n",
    "from pyspark.sql.functions import col\n",
    "from pyspark.sql.types import StructType, StructField, StringType, TimestampType, BinaryType\n",
    "from pyspark.sql.types import ByteType, ShortType, IntegerType, LongType, FloatType, DecimalType"
   ]
  },
  {
   "cell_type": "code",
   "execution_count": 0,
   "metadata": {
    "application/vnd.databricks.v1+cell": {
     "cellMetadata": {},
     "inputWidgets": {},
     "nuid": "9d45c45b-dc6d-4f8e-ba29-bfadf280691c",
     "showTitle": false,
     "title": ""
    }
   },
   "outputs": [],
   "source": [
    "#instantiating global variables \n",
    "\n",
    "# Azure MySQL Server Connection Information ###################\n",
    "jdbc_hostname = \"<tpq4ew-mysql>.mysql.database.azure.com\"\n",
    "jdbc_port = 3306\n",
    "src_database = \"UnderwearData\"\n",
    "\n",
    "connection_properties = {\n",
    "  \"user\" : \"tpq4ew\",\n",
    "  \"password\" : \"Rock27star\",\n",
    "  \"driver\" : \"org.mariadb.jdbc.Driver\"\n",
    "}\n",
    "\n",
    "# MongoDB Atlas Connection Information ########################\n",
    "atlas_cluster_name = \"cluster_name.cgnlbvh\"\n",
    "atlas_database_name = \"UnderwearData\"\n",
    "atlas_user_name = \"tpq4ew\"\n",
    "atlas_password = \"Passw0rd123!\"\n",
    "\n",
    "# Data Files (JSON) Information ###############################\n",
    "dst_database = \"UnderwearData2\"\n",
    "\n",
    "base_dir = \"dbfs:/FileStore/lab_data\"\n",
    "database_dir = f\"{base_dir}/{dst_database}\"\n",
    "\n",
    "data_dir = f\"{base_dir}/retail\"\n",
    "batch_dir = f\"{data_dir}/batch\"\n",
    "stream_dir = f\"{data_dir}/stream\"\n",
    "\n",
    "inventory_transactions_stream_dir = f\"{stream_dir}/inventory_transactions\"\n",
    "\n",
    "inventory_transactions_output_bronze = f\"{database_dir}/fact_inventory_transactions/bronze\"\n",
    "inventory_transactions_output_silver = f\"{database_dir}/fact_inventory_transactions/silver\"\n",
    "inventory_transactions_output_gold   = f\"{database_dir}/fact_inventory_transactions/gold\"\n",
    "\n",
    "\n",
    "# Delete the Streaming Files ################################## \n",
    "dbutils.fs.rm(f\"{database_dir}/fact_inventory_transactions\", True) \n",
    "\n",
    "# Delete the Database Files ###################################\n",
    "dbutils.fs.rm(database_dir, True)"
   ]
  },
  {
   "cell_type": "code",
   "execution_count": 0,
   "metadata": {
    "application/vnd.databricks.v1+cell": {
     "cellMetadata": {},
     "inputWidgets": {},
     "nuid": "50620f30-839f-4ecb-b01d-e4c26b3211d5",
     "showTitle": false,
     "title": ""
    }
   },
   "outputs": [],
   "source": [
    "#Define global functions\n",
    "\n",
    "##################################################################################################################\n",
    "# Use this Function to Fetch a DataFrame from the MongoDB Atlas database server Using PyMongo.\n",
    "##################################################################################################################\n",
    "def get_mongo_dataframe(user_id, pwd, cluster_name, db_name, collection, conditions, projection, sort):\n",
    "    '''Create a client connection to MongoDB'''\n",
    "    mongo_uri = f\"mongodb+srv://{user_id}:{pwd}@{cluster_name}.mongodb.net/{db_name}\"\n",
    "    \n",
    "    client = pymongo.MongoClient(mongo_uri)\n",
    "\n",
    "    '''Query MongoDB, and fill a python list with documents to create a DataFrame'''\n",
    "    db = client[db_name]\n",
    "    if conditions and projection and sort:\n",
    "        dframe = pd.DataFrame(list(db[collection].find(conditions, projection).sort(sort)))\n",
    "    elif conditions and projection and not sort:\n",
    "        dframe = pd.DataFrame(list(db[collection].find(conditions, projection)))\n",
    "    else:\n",
    "        dframe = pd.DataFrame(list(db[collection].find()))\n",
    "\n",
    "    client.close()\n",
    "    \n",
    "    return dframe\n",
    "\n",
    "##################################################################################################################\n",
    "# Use this Function to Create New Collections by Uploading JSON file(s) to the MongoDB Atlas server.\n",
    "##################################################################################################################\n",
    "def set_mongo_collection(user_id, pwd, cluster_name, db_name, src_file_path, json_files):\n",
    "    '''Create a client connection to MongoDB'''\n",
    "    mongo_uri = f\"mongodb+srv://{user_id}:{pwd}@{cluster_name}.mongodb.net/{db_name}\"\n",
    "    client = pymongo.MongoClient(mongo_uri)\n",
    "    db = client[db_name]\n",
    "    \n",
    "    '''Read in a JSON file, and Use It to Create a New Collection'''\n",
    "    for file in json_files:\n",
    "        db.drop_collection(file)\n",
    "        json_file = os.path.join(src_file_path, json_files[file])\n",
    "        with open(json_file, 'r') as openfile:\n",
    "            json_object = json.load(openfile)\n",
    "            file = db[file]\n",
    "            result = file.insert_many(json_object)\n",
    "\n",
    "    client.close()\n",
    "    \n",
    "    return result"
   ]
  },
  {
   "cell_type": "markdown",
   "metadata": {
    "application/vnd.databricks.v1+cell": {
     "cellMetadata": {},
     "inputWidgets": {},
     "nuid": "452cfdf0-563d-4612-8f7b-1b924608d59d",
     "showTitle": false,
     "title": ""
    }
   },
   "source": [
    "Populate Dimensions by Ingesting Reference (Cold-path) Data \n"
   ]
  },
  {
   "cell_type": "code",
   "execution_count": 0,
   "metadata": {
    "application/vnd.databricks.v1+cell": {
     "cellMetadata": {},
     "inputWidgets": {},
     "nuid": "85d37098-828a-4785-8906-6f05479150b3",
     "showTitle": false,
     "title": ""
    }
   },
   "outputs": [],
   "source": [
    "#Fetch reference data from Azure mySQL database\n",
    "#Create a new databricks metadata database\n",
    "%sql\n",
    "DROP DATABASE IF EXISTS UnderwearData2 CASCADE;"
   ]
  },
  {
   "cell_type": "code",
   "execution_count": 0,
   "metadata": {
    "application/vnd.databricks.v1+cell": {
     "cellMetadata": {},
     "inputWidgets": {},
     "nuid": "2632a051-ed00-476e-ad7c-48e5e2789667",
     "showTitle": false,
     "title": ""
    }
   },
   "outputs": [],
   "source": [
    "#create a new databricks metadata database cont. \n",
    "%sql\n",
    "CREATE DATABASE IF NOT EXISTS UnderwearData2\n",
    "COMMENT \"DS-2002 Final Project Database\"\n",
    "LOCATION \"dbfs:/FileStore/lab_data/UnderwearData2\"\n",
    "WITH DBPROPERTIES (contains_pii = true, purpose = \"DS-2002 Final Project\");"
   ]
  },
  {
   "cell_type": "code",
   "execution_count": 0,
   "metadata": {
    "application/vnd.databricks.v1+cell": {
     "cellMetadata": {},
     "inputWidgets": {},
     "nuid": "5eefcd12-4b00-45ac-9418-9e3fe978494e",
     "showTitle": false,
     "title": ""
    }
   },
   "outputs": [],
   "source": [
    "# Create a New Table that Sources Date Dimension Data from a Table in an Azure MySQL database.\n",
    "%sql\n",
    "CREATE OR REPLACE TEMPORARY VIEW view_date\n",
    "USING org.apache.spark.sql.jdbc\n",
    "OPTIONS (\n",
    "  url \"jdbc:mysql://tpq4ew-mysql.mysql.database.azure.com:3306/UnderwearData\", --Replace with your Server Name\n",
    "  dbtable \"dim_date\",\n",
    "  user \"tpq4ew\",    --Replace with your User Name\n",
    "  password \"Rock27star\"  --Replace with you password\n",
    ")"
   ]
  },
  {
   "cell_type": "code",
   "execution_count": 0,
   "metadata": {
    "application/vnd.databricks.v1+cell": {
     "cellMetadata": {},
     "inputWidgets": {},
     "nuid": "82eb882e-37a8-4d99-9bcf-afd1a578ee09",
     "showTitle": false,
     "title": ""
    }
   },
   "outputs": [],
   "source": [
    "# Create a New Table that Sources Date Dimension Data from a Table in an Azure MySQL database cont.\n",
    "%sql\n",
    "USE DATABASE underweardata2;\n",
    "\n",
    "CREATE OR REPLACE TABLE underweardata2.dim_date\n",
    "COMMENT \"Date Dimension Table\"\n",
    "LOCATION \"dbfs:/FileStore/lab_data/UnderwearData2/dim_date\"\n",
    "AS SELECT * FROM view_date"
   ]
  },
  {
   "cell_type": "code",
   "execution_count": 0,
   "metadata": {
    "application/vnd.databricks.v1+cell": {
     "cellMetadata": {},
     "inputWidgets": {},
     "nuid": "f985520d-1cfb-4648-9853-a30fea9dddc9",
     "showTitle": false,
     "title": ""
    }
   },
   "outputs": [],
   "source": [
    "%sql\n",
    "DESCRIBE EXTENDED UnderwearData2.dim_date;"
   ]
  },
  {
   "cell_type": "code",
   "execution_count": 0,
   "metadata": {
    "application/vnd.databricks.v1+cell": {
     "cellMetadata": {},
     "inputWidgets": {},
     "nuid": "26208e71-a859-4987-b9d0-27004ac697e5",
     "showTitle": false,
     "title": ""
    }
   },
   "outputs": [],
   "source": [
    "%sql\n",
    "SELECT * FROM UnderwearData2.dim_date LIMIT 5"
   ]
  },
  {
   "cell_type": "code",
   "execution_count": 0,
   "metadata": {
    "application/vnd.databricks.v1+cell": {
     "cellMetadata": {},
     "inputWidgets": {},
     "nuid": "d2a5ee57-ca00-47b8-bcdc-50a1ee8dc00e",
     "showTitle": false,
     "title": ""
    }
   },
   "outputs": [],
   "source": [
    "# Create a New Table that Sources Product Dimension Data from an Azure MySQL database.\n",
    "%sql\n",
    "-- Create a Temporary View named \"view_product\" that extracts data from your MySQL Northwind database.\n",
    "CREATE OR REPLACE TEMPORARY VIEW view_product\n",
    "USING org.apache.spark.sql.jdbc\n",
    "OPTIONS (\n",
    "  url \"jdbc:mysql://tpq4ew-mysql.mysql.database.azure.com:3306/UnderwearData\", --Replace with your Server Name\n",
    "  dbtable \"dim_products\",\n",
    "  user \"tpq4ew\",    --Replace with your User Name\n",
    "  password \"Rock27star\"  --Replace with you password\n",
    ")"
   ]
  },
  {
   "cell_type": "code",
   "execution_count": 0,
   "metadata": {
    "application/vnd.databricks.v1+cell": {
     "cellMetadata": {},
     "inputWidgets": {},
     "nuid": "802273e6-e828-417c-9289-7a500cccd28e",
     "showTitle": false,
     "title": ""
    }
   },
   "outputs": [],
   "source": [
    "# Create a New Table that Sources Product Dimension Data from an Azure MySQL database cont.\n",
    "\n",
    "%sql\n",
    "USE DATABASE underweardata2;\n",
    "\n",
    "CREATE OR REPLACE TABLE underweardata2.dim_product\n",
    "COMMENT \"Products Dimension Table\"\n",
    "LOCATION \"dbfs:/FileStore/lab_data/UnderwearData2/dim_product\"\n",
    "AS SELECT * FROM view_product\n",
    "\n",
    "-- Create a new table named \"northwind_dlh.dim_product\" using data from the view named \"view_product\""
   ]
  },
  {
   "cell_type": "code",
   "execution_count": 0,
   "metadata": {
    "application/vnd.databricks.v1+cell": {
     "cellMetadata": {},
     "inputWidgets": {},
     "nuid": "df52daf2-9882-4b71-9c6b-47be96197b69",
     "showTitle": false,
     "title": ""
    }
   },
   "outputs": [],
   "source": [
    "%sql\n",
    "DESCRIBE EXTENDED UnderwearData2.dim_product;"
   ]
  },
  {
   "cell_type": "code",
   "execution_count": 0,
   "metadata": {
    "application/vnd.databricks.v1+cell": {
     "cellMetadata": {},
     "inputWidgets": {},
     "nuid": "2649c5c4-8867-4276-a173-8a1d9bdd5add",
     "showTitle": false,
     "title": ""
    }
   },
   "outputs": [],
   "source": [
    "%sql\n",
    "SELECT * FROM UnderwearData2.dim_product LIMIT 5"
   ]
  },
  {
   "cell_type": "code",
   "execution_count": 0,
   "metadata": {
    "application/vnd.databricks.v1+cell": {
     "cellMetadata": {},
     "inputWidgets": {},
     "nuid": "5c11503a-efe1-47e6-9d55-0b0a1f4b2077",
     "showTitle": false,
     "title": ""
    }
   },
   "outputs": [],
   "source": [
    "# Getting purchase orders data from a file system, using Pyspark to read from the csv file\n",
    "purchase_orders_csv = f\"{batch_dir}/purchase_orders.csv\"\n",
    "\n",
    "df_purchase_orders = spark.read.format('csv').options(header='true', inferSchema='true').load(purchase_orders_csv)\n",
    "display(df_purchase_orders)"
   ]
  },
  {
   "cell_type": "code",
   "execution_count": 0,
   "metadata": {
    "application/vnd.databricks.v1+cell": {
     "cellMetadata": {},
     "inputWidgets": {},
     "nuid": "e60ee93f-7018-4346-9a42-cac6267a0832",
     "showTitle": false,
     "title": ""
    }
   },
   "outputs": [],
   "source": [
    "df_purchase_orders.printSchema()"
   ]
  },
  {
   "cell_type": "code",
   "execution_count": 0,
   "metadata": {
    "application/vnd.databricks.v1+cell": {
     "cellMetadata": {},
     "inputWidgets": {},
     "nuid": "bd02e820-09ea-4eee-b2b3-d62659019013",
     "showTitle": false,
     "title": ""
    }
   },
   "outputs": [],
   "source": [
    "df_purchase_orders.write.format(\"delta\").mode(\"overwrite\").saveAsTable(\"UnderwearData2.dim_purchase_orders\")"
   ]
  },
  {
   "cell_type": "code",
   "execution_count": 0,
   "metadata": {
    "application/vnd.databricks.v1+cell": {
     "cellMetadata": {},
     "inputWidgets": {},
     "nuid": "63be24ac-52a4-4a7f-a89d-4cfc60acb8fd",
     "showTitle": false,
     "title": ""
    }
   },
   "outputs": [],
   "source": [
    "%sql\n",
    "DESCRIBE EXTENDED UnderwearData2.dim_purchase_orders;"
   ]
  },
  {
   "cell_type": "code",
   "execution_count": 0,
   "metadata": {
    "application/vnd.databricks.v1+cell": {
     "cellMetadata": {},
     "inputWidgets": {},
     "nuid": "50fa206a-a506-4ede-9cc4-4e22696e985f",
     "showTitle": false,
     "title": ""
    }
   },
   "outputs": [],
   "source": [
    "%sql\n",
    "SELECT * FROM UnderwearData2.dim_purchase_orders LIMIT 5;"
   ]
  },
  {
   "cell_type": "code",
   "execution_count": 0,
   "metadata": {
    "application/vnd.databricks.v1+cell": {
     "cellMetadata": {},
     "inputWidgets": {},
     "nuid": "8b70a305-3e63-43ff-986b-c01c174e51f9",
     "showTitle": false,
     "title": ""
    }
   },
   "outputs": [],
   "source": [
    "#using pyspark to read the suppliers dimension table from a csv file \n",
    "\n",
    "suppliers_csv = f\"{batch_dir}/suppliers.csv\"\n",
    "\n",
    "df_suppliers = spark.read.format('csv').options(header='true', inferSchema='true').load(suppliers_csv)\n",
    "display(df_suppliers)"
   ]
  },
  {
   "cell_type": "code",
   "execution_count": 0,
   "metadata": {
    "application/vnd.databricks.v1+cell": {
     "cellMetadata": {},
     "inputWidgets": {},
     "nuid": "0dee2cdb-3234-41cf-b80d-8ea8a8824eed",
     "showTitle": false,
     "title": ""
    }
   },
   "outputs": [],
   "source": [
    "df_suppliers.printSchema()"
   ]
  },
  {
   "cell_type": "code",
   "execution_count": 0,
   "metadata": {
    "application/vnd.databricks.v1+cell": {
     "cellMetadata": {},
     "inputWidgets": {},
     "nuid": "e73d3b23-a645-4c98-80a5-b0b194fbb070",
     "showTitle": false,
     "title": ""
    }
   },
   "outputs": [],
   "source": [
    "df_suppliers.write.format(\"delta\").mode(\"overwrite\").saveAsTable(\"UnderwearData2.dim_suppliers\")"
   ]
  },
  {
   "cell_type": "code",
   "execution_count": 0,
   "metadata": {
    "application/vnd.databricks.v1+cell": {
     "cellMetadata": {},
     "inputWidgets": {},
     "nuid": "772dba57-56bb-41d3-93f8-fe153aceacdd",
     "showTitle": false,
     "title": ""
    }
   },
   "outputs": [],
   "source": [
    "\n",
    "%sql\n",
    "DESCRIBE EXTENDED UnderwearData2.dim_suppliers; "
   ]
  },
  {
   "cell_type": "code",
   "execution_count": 0,
   "metadata": {
    "application/vnd.databricks.v1+cell": {
     "cellMetadata": {},
     "inputWidgets": {},
     "nuid": "28824c53-05b6-4838-b04a-38f007dffd34",
     "showTitle": false,
     "title": ""
    }
   },
   "outputs": [],
   "source": [
    "%sql\n",
    "SELECT * FROM UnderwearData2.dim_suppliers LIMIT 5;"
   ]
  },
  {
   "cell_type": "code",
   "execution_count": 0,
   "metadata": {
    "application/vnd.databricks.v1+cell": {
     "cellMetadata": {},
     "inputWidgets": {},
     "nuid": "77e8da2e-48b0-44e4-b81d-c79fcfaf69bb",
     "showTitle": false,
     "title": ""
    }
   },
   "outputs": [],
   "source": [
    "\n",
    "%sql\n",
    "USE UnderWearData2;\n",
    "SHOW TABLES"
   ]
  },
  {
   "cell_type": "code",
   "execution_count": 0,
   "metadata": {
    "application/vnd.databricks.v1+cell": {
     "cellMetadata": {},
     "inputWidgets": {},
     "nuid": "2f226850-fa82-43d7-a396-1debe00f5ee0",
     "showTitle": false,
     "title": ""
    }
   },
   "outputs": [],
   "source": [
    "#viewing the data files on the databricks file system \n",
    "\n",
    "display(dbutils.fs.ls(batch_dir))  # '/dbfs/FileStore/lab_data/retail/batch'"
   ]
  },
  {
   "cell_type": "code",
   "execution_count": 0,
   "metadata": {
    "application/vnd.databricks.v1+cell": {
     "cellMetadata": {},
     "inputWidgets": {},
     "nuid": "ab8b21a1-33c2-4673-ac93-c7bfa1b65040",
     "showTitle": false,
     "title": ""
    }
   },
   "outputs": [],
   "source": [
    "# Create a New MongoDB Database, and Load JSON Data with inventory transaction dimension table Into a New MongoDB Collection\n",
    "\n",
    "source_dir = '/dbfs/FileStore/lab_data/retail/batch'\n",
    "json_files = {\"dim_inventory_transactions\" : 'Underwear_dim_inventory_transactions.json'}\n",
    "\n",
    "set_mongo_collection(atlas_user_name, atlas_password, atlas_cluster_name, atlas_database_name, source_dir, json_files) "
   ]
  },
  {
   "cell_type": "code",
   "execution_count": 0,
   "metadata": {
    "application/vnd.databricks.v1+cell": {
     "cellMetadata": {},
     "inputWidgets": {},
     "nuid": "1a2b6a4d-03f3-4e32-950d-0f8626a42975",
     "showTitle": false,
     "title": ""
    }
   },
   "outputs": [],
   "source": [
    "#Fetching the newly created inventory transaction dimension data from the MongoDB collection\n",
    "%scala\n",
    "import com.mongodb.spark._\n",
    "\n",
    "val userName = \"user_name\"\n",
    "val pwd = \"password\"\n",
    "val clusterName = \"cluster_name.xxxxx\"\n",
    "val atlas_uri = s\"mongodb+srv://$userName:$pwd@$clusterName.mongodb.net/?retryWrites=true&w=majority\""
   ]
  },
  {
   "cell_type": "code",
   "execution_count": 0,
   "metadata": {
    "application/vnd.databricks.v1+cell": {
     "cellMetadata": {},
     "inputWidgets": {},
     "nuid": "ea44734a-13ab-4b16-98ed-c0cf0c79cb0e",
     "showTitle": false,
     "title": ""
    }
   },
   "outputs": [],
   "source": [
    "%scala\n",
    "\n",
    "val df_inventory_transactions = spark.read.format(\"com.mongodb.spark.sql.DefaultSource\")\n",
    ".option(\"database\", \"UnderwearData\")\n",
    ".option(\"collection\", \"dim_inventory_transactions\")\n",
    ".option(\"uri\", atlas_uri).load()\n",
    ".select(\"TransactionID\", \"ProductID\", \"PurchaseOrderID\", \"MissingID\",\"TransactionDate\",\"UnitPurchasePrice\",\"QuantityOrdered\",\"QuantityReceived\",\"QuantityMissing\")\n",
    "\n",
    "display(df_inventory_transactions)"
   ]
  },
  {
   "cell_type": "code",
   "execution_count": 0,
   "metadata": {
    "application/vnd.databricks.v1+cell": {
     "cellMetadata": {},
     "inputWidgets": {},
     "nuid": "951685df-c6ce-4ca4-9662-21f62aaffeac",
     "showTitle": false,
     "title": ""
    }
   },
   "outputs": [],
   "source": [
    "%scala\n",
    "df_inventory_transactions.printSchema()"
   ]
  },
  {
   "cell_type": "code",
   "execution_count": 0,
   "metadata": {
    "application/vnd.databricks.v1+cell": {
     "cellMetadata": {},
     "inputWidgets": {},
     "nuid": "674f6d47-470c-4db5-b878-2f2636ab8135",
     "showTitle": false,
     "title": ""
    }
   },
   "outputs": [],
   "source": [
    "# Use the Spark DataFrame to Create a New Purchase Order Dimension Table in the Databricks Metadata Database (UnderwearData2)\n",
    "%scala\n",
    "df_inventory_transactions.write.format(\"delta\").mode(\"overwrite\").saveAsTable(\"UnderwearData2.dim_inventory_transactions\")"
   ]
  },
  {
   "cell_type": "code",
   "execution_count": 0,
   "metadata": {
    "application/vnd.databricks.v1+cell": {
     "cellMetadata": {},
     "inputWidgets": {},
     "nuid": "b3258f9d-6e30-4620-af35-64cd65f28d1c",
     "showTitle": false,
     "title": ""
    }
   },
   "outputs": [],
   "source": [
    "%sql\n",
    "DESCRIBE EXTENDED UnderwearData2.dim_inventory_transactions"
   ]
  },
  {
   "cell_type": "code",
   "execution_count": 0,
   "metadata": {
    "application/vnd.databricks.v1+cell": {
     "cellMetadata": {},
     "inputWidgets": {},
     "nuid": "81f09432-73d7-45f4-821e-7c56a5e1c07e",
     "showTitle": false,
     "title": ""
    }
   },
   "outputs": [],
   "source": [
    "%sql\n",
    "SELECT * FROM UnderwearData2.dim_inventory_transactions LIMIT 5"
   ]
  },
  {
   "cell_type": "markdown",
   "metadata": {
    "application/vnd.databricks.v1+cell": {
     "cellMetadata": {},
     "inputWidgets": {},
     "nuid": "8711f97b-9e91-4e73-88b9-c02dc726b2ed",
     "showTitle": false,
     "title": ""
    }
   },
   "source": [
    "Integrate Reference with Real-Time Data"
   ]
  },
  {
   "cell_type": "code",
   "execution_count": 0,
   "metadata": {
    "application/vnd.databricks.v1+cell": {
     "cellMetadata": {},
     "inputWidgets": {},
     "nuid": "0899660d-45d6-4da4-ac5b-6e1288f83290",
     "showTitle": false,
     "title": ""
    }
   },
   "outputs": [],
   "source": [
    "#Use Autoloader to Process Streaming (Hot path) Orders fact data\n",
    "#Creating a Bronze table that processes the raw JSON data\n",
    "\n",
    "(spark.readStream\n",
    " .format(\"cloudFiles\")\n",
    " .option(\"cloudFiles.format\", \"json\")\n",
    " #.option(\"cloudFiles.schemaHints\", \"transactionID BIGINT\")\n",
    " #.option(\"cloudFiles.schemaHints\", \"productID BIGINT\")\n",
    " #.option(\"cloudFiles.schemaHints\", \"purchaseOrderID BIGINT\")\n",
    " #.option(\"cloudFiles.schemaHints\", \"missingID BIGINT\") \n",
    " #.option(\"cloudFiles.schemaHints\", \"TransactionDate DATE\")\n",
    " #.option(\"cloudFiles.schemaHints\", \"unitPurchasePrice DECIMAL\")\n",
    " #.option(\"cloudFiles.schemaHints\", \"quantityOrdered BIGINT\")\n",
    " #.option(\"cloudFiles.schemaHints\", \"quantityReceieved BIGINT\")\n",
    " #.option(\"cloudFiles.schemaHints\", \"quantityMissing BIGINT\") \n",
    " .option(\"cloudFiles.schemaLocation\", inventory_transaction_output_bronze)\n",
    " .option(\"cloudFiles.inferColumnTypes\", \"true\")\n",
    " .option(\"multiLine\", \"true\")\n",
    " .load(customers_stream_dir)\n",
    " .createOrReplaceTempView(\"inventory_transactions_raw_tempview\"))"
   ]
  },
  {
   "cell_type": "code",
   "execution_count": 0,
   "metadata": {
    "application/vnd.databricks.v1+cell": {
     "cellMetadata": {},
     "inputWidgets": {},
     "nuid": "cad562ed-8e3d-4cf6-8deb-62cd5f8e5133",
     "showTitle": false,
     "title": ""
    }
   },
   "outputs": [],
   "source": [
    "%sql\n",
    "/* Add Metadata for Traceability */\n",
    "CREATE OR REPLACE TEMPORARY VIEW inventory_transactions_bronze_tempview AS (\n",
    "  SELECT *, current_timestamp() receipt_time, input_file_name() source_file\n",
    "  FROM inventory_transactions_raw_tempview\n",
    ")"
   ]
  },
  {
   "cell_type": "code",
   "execution_count": 0,
   "metadata": {
    "application/vnd.databricks.v1+cell": {
     "cellMetadata": {},
     "inputWidgets": {},
     "nuid": "25742272-ed4c-4ce6-9375-61341dd6dc1c",
     "showTitle": false,
     "title": ""
    }
   },
   "outputs": [],
   "source": [
    "%sql\n",
    "SELECT * FROM customers_bronze_tempview"
   ]
  },
  {
   "cell_type": "code",
   "execution_count": 0,
   "metadata": {
    "application/vnd.databricks.v1+cell": {
     "cellMetadata": {},
     "inputWidgets": {},
     "nuid": "31d7517e-5c2b-438d-88e7-4c47e8e082ca",
     "showTitle": false,
     "title": ""
    }
   },
   "outputs": [],
   "source": [
    "(spark.table(\"inventory_transactions_bronze_tempview\")\n",
    "      .writeStream\n",
    "      .format(\"delta\")\n",
    "      .option(\"checkpointLocation\", f\"{customers_output_bronze}/_checkpoint\")\n",
    "      .outputMode(\"append\")\n",
    "      .table(\"fact_inventory_transactions_bronze\"))"
   ]
  },
  {
   "cell_type": "code",
   "execution_count": 0,
   "metadata": {
    "application/vnd.databricks.v1+cell": {
     "cellMetadata": {},
     "inputWidgets": {},
     "nuid": "60166739-e855-4584-a2c1-f233e2bb2f56",
     "showTitle": false,
     "title": ""
    }
   },
   "outputs": [],
   "source": [
    "# Creating silver table that includes reference data \n",
    "(spark.readStream\n",
    "  .table(\"fact_inventory_transactions_bronze\")\n",
    "  .createOrReplaceTempView(\"inventory_transactions_silver_tempview\"))"
   ]
  },
  {
   "cell_type": "code",
   "execution_count": 0,
   "metadata": {
    "application/vnd.databricks.v1+cell": {
     "cellMetadata": {},
     "inputWidgets": {},
     "nuid": "c04aa117-4c1d-473c-b1bd-1d419796252b",
     "showTitle": false,
     "title": ""
    }
   },
   "outputs": [],
   "source": [
    "%sql\n",
    "SELECT * FROM inventory_transactions_silver_tempview"
   ]
  },
  {
   "cell_type": "code",
   "execution_count": 0,
   "metadata": {
    "application/vnd.databricks.v1+cell": {
     "cellMetadata": {},
     "inputWidgets": {},
     "nuid": "450f6453-e01f-4fc0-9f4f-1ab5e9271557",
     "showTitle": false,
     "title": ""
    }
   },
   "outputs": [],
   "source": [
    "%sql\n",
    "DESCRIBE EXTENDED inventory_transactions_silver_tempview"
   ]
  },
  {
   "cell_type": "code",
   "execution_count": 0,
   "metadata": {
    "application/vnd.databricks.v1+cell": {
     "cellMetadata": {},
     "inputWidgets": {},
     "nuid": "f68cf0ba-5699-4029-b631-e9de0500c0c0",
     "showTitle": false,
     "title": ""
    }
   },
   "outputs": [],
   "source": [
    "%sql\n",
    "CREATE OR REPLACE TEMPORARY VIEW fact_inventory_transactions_silver_tempview AS (\n",
    "  SELECT it.fact_inventory_transactions_key,\n",
    "  it.TransactionID,\n",
    "  it.productID, \n",
    "  p.productName AS product_name, \n",
    "  p.color AS product_color, \n",
    "  p.modelDescription AS product_model_description, \n",
    "  p.fabricDescription AS product_fabric_description, \n",
    "  p.category AS product_category, \n",
    "  p.gender AS product_gender, \n",
    "  p.productLine AS product_product_line, \n",
    "  p.weight AS product_weight, \n",
    "  p.size AS product_size, \n",
    "  p.packSize AS product_packSize \n",
    "  p.status AS product_status, \n",
    "  p.inventoryDate AS product_inventory_date\n",
    "  it.purchaseOrderID, \n",
    "  po.supplierID, \n",
    "  s.supplierName AS supplier_name \n",
    "  po.employeeID AS purhcaseorder_employeeID \n",
    "  po.shippingMethodID, \n",
    "  po.orderDate,\n",
    "  dd.day_name_of_week AS order_day_name_of_week, \n",
    "  dd.day_of_month AS order_day_of_month, \n",
    "  dd.weekday_weekend AS order_weekday_weekend, \n",
    "  dd.monthName AS order_month_name, \n",
    "  dd.calendar_quarter AS order_quarter,\n",
    "  dd.calendar_year AS order_year, \n",
    "  it.missingID, \n",
    "  it.transactionDate,\n",
    "  it.UnitpurchasePrice\n",
    "  it.quantityOrdered,\n",
    "  it.quantityReceived, \n",
    "  it.quantityMissing\n",
    "\n",
    "  FROM inventory_transactions_silver_tempview AS it\n",
    "  INNER JOIN UnderwearData2.dim_products AS p \n",
    "  ON p.productID = it.productID\n",
    "  INNER JOIN UnderwearData2.dim_purchase_orders as po \n",
    "  ON po.purhcaseOrderID = it.purchaseOrderID \n",
    "  INNER JOIN UnderwearData2.dim_suppliers as s \n",
    "  ON s.supplierID = it.supplierID  \n",
    "  LEFT OUTER JOIN UnderwearData2.dim_date as dd \n",
    "  ON dd.OrderDate = it.OrderDate \n",
    "\n",
    ")"
   ]
  },
  {
   "cell_type": "code",
   "execution_count": 0,
   "metadata": {
    "application/vnd.databricks.v1+cell": {
     "cellMetadata": {},
     "inputWidgets": {},
     "nuid": "2580c5a0-5f04-4804-a14f-e7738d823713",
     "showTitle": false,
     "title": ""
    }
   },
   "outputs": [],
   "source": [
    "(spark.table(\"fact_inventory_transactions_silver_tempview\")\n",
    "      .writeStream\n",
    "      .format(\"delta\")\n",
    "      .option(\"checkpointLocation\", f\"{orders_output_silver}/_checkpoint\")\n",
    "      .outputMode(\"append\")\n",
    "      .table(\"fact_inventory_transactions_silver\"))"
   ]
  },
  {
   "cell_type": "code",
   "execution_count": 0,
   "metadata": {
    "application/vnd.databricks.v1+cell": {
     "cellMetadata": {},
     "inputWidgets": {},
     "nuid": "3d890cd7-f519-4e2a-83e3-bf84999059f1",
     "showTitle": false,
     "title": ""
    }
   },
   "outputs": [],
   "source": [
    "%sql\n",
    "SELECT * FROM fact_inventory_transactions_silver"
   ]
  },
  {
   "cell_type": "code",
   "execution_count": 0,
   "metadata": {
    "application/vnd.databricks.v1+cell": {
     "cellMetadata": {},
     "inputWidgets": {},
     "nuid": "9cf4a5f0-3eaa-4fbb-b65d-5e01cf3b6b99",
     "showTitle": false,
     "title": ""
    }
   },
   "outputs": [],
   "source": [
    "%sql\n",
    "DESCRIBE EXTENDED UnderwearData2.fact_inventory_transactions_silver"
   ]
  },
  {
   "cell_type": "code",
   "execution_count": 0,
   "metadata": {
    "application/vnd.databricks.v1+cell": {
     "cellMetadata": {},
     "inputWidgets": {},
     "nuid": "16bd0145-93ff-4547-abe3-8e3ee992c547",
     "showTitle": false,
     "title": ""
    }
   },
   "outputs": [],
   "source": [
    "\n",
    "%sql\n",
    "/* Creating the Gold table and performing the aggregations */\n",
    "CREATE OR REPLACE TABLE UnderwearData2.fact_monthly_orders_by_product_gold AS (\n",
    "  SELECT productID AS product_key \n",
    "    , productName as productName\n",
    "    , order_month_name AS OrderMonth,\n",
    "    , COUNT(inventory_QuantityOrdered) AS QuantityOrdered\n",
    "  FROM UnderwearData2.fact_inventory_transactions_silver\n",
    "  GROUP BY product_key, productName, QuantityOrdered\n",
    "  ORDER BY QuantityOrdered DESC);\n",
    "\n",
    "SELECT * FROM UnderwearData2.fact_monthly_orders_by_product_gold;"
   ]
  }
 ],
 "metadata": {
  "application/vnd.databricks.v1+notebook": {
   "dashboards": [],
   "language": "python",
   "notebookMetadata": {
    "pythonIndentUnit": 4
   },
   "notebookName": "DS 2002 Final Project",
   "widgets": {}
  }
 },
 "nbformat": 4,
 "nbformat_minor": 0
}
